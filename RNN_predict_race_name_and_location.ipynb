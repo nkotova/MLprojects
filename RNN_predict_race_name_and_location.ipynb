{
 "cells": [
  {
   "cell_type": "code",
   "execution_count": 45,
   "id": "264586dc",
   "metadata": {},
   "outputs": [],
   "source": [
    "#House keeping. Make sure to install tensorflow before running this cell. \n",
    "from __future__ import print_function\n",
    "\n",
    "import numpy as np\n",
    "import pandas as pd\n",
    "\n",
    "from sklearn.feature_extraction.text import CountVectorizer\n",
    "from sklearn.model_selection import train_test_split\n",
    "from sklearn.metrics import classification_report,confusion_matrix\n",
    "from sklearn.utils import shuffle\n",
    "\n",
    "import keras\n",
    "from keras.preprocessing import sequence\n",
    "from keras.models import Sequential, load_model\n",
    "from keras.layers import Dense, Embedding, Dropout, Activation, LSTM\n",
    "from keras.layers.convolutional import Conv1D, MaxPooling1D\n",
    "\n",
    "\n",
    "\n",
    "import matplotlib.pyplot as plt\n",
    "\n",
    "import os\n",
    "os.environ[\"KERAS_BACKEND\"] = \"plaidml.keras.backend\""
   ]
  },
  {
   "cell_type": "code",
   "execution_count": 46,
   "id": "5ee1f38e",
   "metadata": {},
   "outputs": [],
   "source": [
    "#Reading in the data:\n",
    "df = pd.read_csv('/Volumes/Samsung_T5/nameracesample.csv',dtype={'name_last':str,'name_first':str,'fips':str,'zip':str,'race':str,\n",
    "                                                                 'frac_white':float,'frac_black':float,'frac_asian':float})"
   ]
  },
  {
   "cell_type": "code",
   "execution_count": 47,
   "id": "245582f5",
   "metadata": {},
   "outputs": [
    {
     "data": {
      "text/plain": [
       "array(['nh_white', 'hispanic', 'nh_black', 'asian'], dtype=object)"
      ]
     },
     "execution_count": 47,
     "metadata": {},
     "output_type": "execute_result"
    }
   ],
   "source": [
    "#Schema:\n",
    "df.race.unique()"
   ]
  },
  {
   "cell_type": "code",
   "execution_count": 54,
   "id": "f9c4f9f8",
   "metadata": {},
   "outputs": [],
   "source": [
    "#Define data cleaning precedure:\n",
    "\n",
    "def data_preprocessing(df,sample,ntest,ngrams,feature_len,model,strat_sampling=False,random_state=21):\n",
    "    \n",
    "    #Cleaning:\n",
    "    df.dropna(subset=['name_first', 'name_last'], inplace=True)\n",
    "    \n",
    "    #Capitalize the first letters:\n",
    "    df['name_first'] = df.name_first.str.title()\n",
    "    df['name_last'] = df.name_last.str.title()\n",
    "    \n",
    "    # Concatenate the data depending on the model:\n",
    "    \n",
    "    if model=='fl_fips':\n",
    "        df['name_last_name_first'] = df['name_last'] + ' ' + df['name_first']+' '+df['fips']\n",
    "    elif model=='fl_zip':\n",
    "        df['name_last_name_first'] = df['name_last'] + ' ' + df['name_first']+' '+df['zip']\n",
    "    elif model=='l':\n",
    "        df['name_last_name_first'] = df['name_last']\n",
    "    elif model=='f':\n",
    "        df['name_last_name_first'] = df['name_first']\n",
    "    elif model=='fl' or model=='fl_zipcomp':\n",
    "        df['name_last_name_first'] = df['name_last'] + ' ' + df['name_first']\n",
    "    else:\n",
    "        sys.exit('Invalid model name. Should take one of the following values: fl_fips, fl_zip, fl_zipcomp, fl, l')\n",
    "                \n",
    "    #Randomly shuffle the data:    \n",
    "    df=shuffle(df, random_state=random_state)\n",
    "    \n",
    "    #Split the data into test, dev and train sets:\n",
    "    ndev=2*ntest\n",
    "    \n",
    "    sdf_test=df[:ntest]\n",
    "    sdf_dev=df[ntest:ndev]\n",
    "    sdf_train=df[ndev:]\n",
    "    \n",
    "    #Sample train sample:\n",
    "    if strat_sampling==True:\n",
    "    \n",
    "        sample_non_white=sdf_train[sdf_train['race']!=\"nh_white\"].groupby('race', group_keys=False).apply(lambda x: x.sample(min(len(x),sample),random_state=21))\n",
    "        sample_white=sdf_train[sdf_train['race']==\"nh_white\"].sample(n=sample, random_state=random_state)\n",
    "\n",
    "        sdf_train=pd.concat([sample_non_white,sample_white])\n",
    "    \n",
    "        sdf_train=shuffle(sdf_train, random_state=random_state)\n",
    "        \n",
    "    else:\n",
    "        sdf_train=sdf_train.sample(n=sample, random_state=random_state)\n",
    "    \n",
    "    #Print the breakdown of number of observations by race in the train sample:\n",
    "    \n",
    "    print(sdf_train.groupby('race').agg({'name_first': 'count'}))\n",
    "    \n",
    "    \n",
    "    #Concat test, dev and train samples:\n",
    "    \n",
    "    sdf=pd.concat([sdf_test,sdf_dev,sdf_train])\n",
    "\n",
    "    #Build word list:\n",
    "    word_vect = CountVectorizer(analyzer='word',  max_df=0.3, min_df=3, ngram_range=word_ngrams, lowercase=False) \n",
    "    word_a = word_vect.fit_transform(sdf.name_last_name_first)\n",
    "    word_b = word_vect.inverse_transform(word_a)\n",
    "    word_vocab = word_vect.vocabulary_\n",
    "    \n",
    "    #Build ngram list:\n",
    "    char_vect = CountVectorizer(analyzer='char', max_df=0.3, min_df=3, ngram_range=ngrams, lowercase=False) \n",
    "    char_a = char_vect.fit_transform(sdf.name_last_name_first)\n",
    "    char_b = char_vect.inverse_transform(char_a)\n",
    "    char_vocab = char_vect.vocabulary_\n",
    "\n",
    "    #Number of words in the vocabularies:\n",
    "    print(\"Number of words:\",len(word_vocab))\n",
    "    print(\"Number of characters:\",len(word_vocab))\n",
    "\n",
    "    #Implement one-hot encoding first for words and then for bi-chars:\n",
    "    X=[]\n",
    "    for obs in word_b:\n",
    "        x=[]\n",
    "        for w in obs:\n",
    "                x.append(word_vocab[w])\n",
    "        X.append(x)\n",
    "\n",
    "    add=len(word_vocab)  \n",
    "    index=0\n",
    "\n",
    "    for obs in char_b:\n",
    "        x=X[index]\n",
    "        for c in obs:\n",
    "            x.append(add+char_vocab[c])\n",
    "        index+=1\n",
    "\n",
    "    # Check max/avg feature\n",
    "    X_len = []\n",
    "    for x in X:\n",
    "        X_len.append(len(x))\n",
    "\n",
    "    max_feature_len = max(X_len)\n",
    "    avg_feature_len = int(np.mean(X_len))\n",
    "\n",
    "    print(\"Max feature len = %d, Avg. feature len = %d\" % (max_feature_len, avg_feature_len))\n",
    "    y = np.array(sdf.race.astype('category').cat.codes)\n",
    "\n",
    "    # Split train, dev and test datasets\n",
    "    \n",
    "    X_test=X[:ntest]\n",
    "    y_test=y[:ntest]\n",
    "    \n",
    "    X_dev=X[ntest:ndev]\n",
    "    y_dev=y[ntest:ndev]\n",
    "    \n",
    "    X_train=X[ndev:]\n",
    "    y_train=y[ndev:]\n",
    "\n",
    "    print(len(X_train), 'train sequences')\n",
    "    print(len(X_dev), 'dev sequences')\n",
    "    print(len(X_test), 'test sequences')\n",
    "    \n",
    "    #Pad sequences with 0s to make sure that the length is the same:\n",
    "\n",
    "    print('Pad sequences (samples x time)')\n",
    "    X_train = sequence.pad_sequences(X_train, maxlen=feature_len)\n",
    "    X_dev = sequence.pad_sequences(X_dev, maxlen=feature_len)\n",
    "    X_test = sequence.pad_sequences(X_test, maxlen=feature_len)\n",
    "    print('X_train shape:', X_train.shape)\n",
    "    print('X_dev shape:', X_dev.shape)\n",
    "    print('X_test shape:', X_test.shape)\n",
    "\n",
    "    num_classes = np.max(y_train) + 1\n",
    "    print(num_classes, 'classes')\n",
    "\n",
    "    print('Convert class vector to binary class matrix '\n",
    "          '(for use with categorical_crossentropy)')\n",
    "    y_train = keras.utils.to_categorical(y_train, num_classes)\n",
    "    y_dev = keras.utils.to_categorical(y_dev, num_classes)\n",
    "    y_test = keras.utils.to_categorical(y_test, num_classes)\n",
    "    print('y_train shape:', y_train.shape)\n",
    "    print('y_dev shape:', y_dev.shape)\n",
    "    print('y_test shape:', y_test.shape)\n",
    "    print('Number of classes:', y_train.shape[1])\n",
    "    \n",
    "    #Getting zipcode composition data for train, test, dev:\n",
    "    \n",
    "    if set([\"frac_white\",\"frac_black\",\"frac_asian\"]).issubset(sdf.columns):\n",
    "        \n",
    "        sub=sdf[[\"frac_white\",\"frac_black\",\"frac_asian\"]]\n",
    "    \n",
    "        N_test=sub[:ntest]\n",
    "    \n",
    "        N_dev=sub[ntest:ndev]\n",
    "    \n",
    "        N_train=sub[ndev:]\n",
    "\n",
    "    return word_vocab, char_vocab, X_train, X_dev, X_test, y_train, y_dev, y_test, N_test, N_dev, N_train"
   ]
  },
  {
   "cell_type": "markdown",
   "id": "b8717518",
   "metadata": {},
   "source": [
    "### Define the baseline model that can be used for predicting race using:\n",
    "- Only first name (f)\n",
    "- Only last name (l)\n",
    "- First name and last name (fl)\n",
    "- First name, last name and zipcode string (flz)"
   ]
  },
  {
   "cell_type": "code",
   "execution_count": 86,
   "id": "5384db12",
   "metadata": {},
   "outputs": [],
   "source": [
    "#Baseline LSTM\n",
    "def build_model_lstm(num_words,num_classes,feature_len,output_length):\n",
    "    print('Build model...')\n",
    "\n",
    "    model = Sequential()\n",
    "    model.add(Embedding(num_words, output_length, input_length=feature_len))\n",
    "    model.add(LSTM(100))\n",
    "    model.add(Dropout(0.2))\n",
    "    model.add(Dense(num_classes, activation='softmax'))\n",
    "    model.compile(loss='categorical_crossentropy',\n",
    "                       optimizer='adam',\n",
    "                       metrics=['accuracy'])\n",
    "\n",
    "    print(model.summary())\n",
    "    \n",
    "    return model\n",
    "\n",
    "#Alternative LSTM + Conv Layer (performs a bit worse, but runs much faster)\n",
    "def build_model_conv_lstm(num_words,num_classes,feature_len,output_length):\n",
    "    model= Sequential()\n",
    "    model.add(Embedding(num_words, output_length, input_length=feature_len))\n",
    "    model.add(Conv1D(activation=\"relu\", padding=\"same\", filters=32, kernel_size=3))\n",
    "    model.add(MaxPooling1D(pool_size=2))\n",
    "    model.add(LSTM(100))\n",
    "    model.add(Dropout(0.2))\n",
    "    model.add(Dense(num_classes, activation='softmax'))\n",
    "\n",
    "\n",
    "    model.compile(loss='categorical_crossentropy',\n",
    "              optimizer='adam',\n",
    "              metrics=['accuracy'])\n",
    "\n",
    "    print(model.summary())\n",
    "    \n",
    "    return model"
   ]
  },
  {
   "cell_type": "markdown",
   "id": "363d9377",
   "metadata": {},
   "source": [
    "### Define the baseline model that can be used for predicting race using:\n",
    "- First name, last name and numerical features, for example, zipcode composition."
   ]
  },
  {
   "cell_type": "code",
   "execution_count": 87,
   "id": "ba39d1a6",
   "metadata": {},
   "outputs": [],
   "source": [
    "def build_model_lstm_zipcode_composition(num_words,num_classes,feature_len,output_length,num_length):\n",
    "    nlp_input = Input(shape=(feature_len,)) \n",
    "    meta_input = Input(shape=(num_length,))\n",
    "    emb = Embedding(num_words, output_length, input_length=feature_len)(nlp_input) \n",
    "    nlp_out = LSTM(100)(emb) \n",
    "    concat = concatenate([nlp_out, meta_input]) \n",
    "    classifier = Dense(32, activation='relu')(concat) \n",
    "    output = Dense(num_classes, activation='sigmoid')(classifier) \n",
    "    model = Model(inputs=[nlp_input , meta_input], outputs=[output])\n",
    "    model.compile(loss='categorical_crossentropy',\n",
    "              optimizer='adam',\n",
    "              metrics=['accuracy'])\n",
    "\n",
    "    print(model.summary())\n",
    "    \n",
    "    return model"
   ]
  },
  {
   "cell_type": "markdown",
   "id": "916dd262",
   "metadata": {},
   "source": [
    "### Other helpful evaluation functions:"
   ]
  },
  {
   "cell_type": "code",
   "execution_count": 79,
   "id": "abf483a1",
   "metadata": {},
   "outputs": [],
   "source": [
    "def plot_loss_accuracy(history):\n",
    "    # list all data in history\n",
    "    print(history.history.keys())\n",
    "    \n",
    "    # summarize history for accuracy\n",
    "    plt.plot(history.history['accuracy'])\n",
    "    plt.plot(history.history['val_accuracy'])\n",
    "    plt.title('model accuracy')\n",
    "    plt.ylabel('accuracy')\n",
    "    plt.xlabel('epoch')\n",
    "    plt.legend(['train', 'validation'], loc='upper left')\n",
    "    plt.show()\n",
    "    \n",
    "    # summarize history for loss\n",
    "    plt.plot(history.history['loss'])\n",
    "    plt.plot(history.history['val_loss'])\n",
    "    plt.title('model loss')\n",
    "    plt.ylabel('loss')\n",
    "    plt.xlabel('epoch')\n",
    "    plt.legend(['train', 'validation'], loc='upper left')\n",
    "    plt.show()\n",
    "    \n",
    "    \n",
    "def model_evaluate(model,X,y):\n",
    "    y_pred = model.predict_classes(X, verbose=2)\n",
    "    \n",
    "    p = model.predict_proba(X, verbose=2) # to predict probability\n",
    "    \n",
    "    target_names = list(df.race.astype('category').cat.categories)\n",
    "    \n",
    "    #print(\"Model's performance:\")\n",
    "    print(classification_report(np.argmax(y, axis=1), y_pred, target_names=target_names))\n",
    "    print(confusion_matrix(np.argmax(y, axis=1), y_pred))"
   ]
  },
  {
   "cell_type": "markdown",
   "id": "fd29eaed",
   "metadata": {},
   "source": [
    "### First name and Last name prediction"
   ]
  },
  {
   "cell_type": "code",
   "execution_count": 102,
   "id": "605d1f2e",
   "metadata": {},
   "outputs": [
    {
     "name": "stdout",
     "output_type": "stream",
     "text": [
      "          name_first\n",
      "race                \n",
      "asian          73278\n",
      "hispanic      101488\n",
      "nh_black       54226\n",
      "nh_white      771008\n",
      "Number of words: 57948\n",
      "Number of characters: 57948\n",
      "Max feature len = 37, Avg. feature len = 13\n",
      "1000000 train sequences\n",
      "50000 dev sequences\n",
      "50000 test sequences\n",
      "Pad sequences (samples x time)\n",
      "X_train shape: (1000000, 25)\n",
      "X_dev shape: (50000, 25)\n",
      "X_test shape: (50000, 25)\n",
      "4 classes\n",
      "Convert class vector to binary class matrix (for use with categorical_crossentropy)\n",
      "y_train shape: (1000000, 4)\n",
      "y_dev shape: (50000, 4)\n",
      "y_test shape: (50000, 4)\n",
      "Number of classes: 4\n"
     ]
    }
   ],
   "source": [
    "#Parameters:\n",
    "sample=1000000 #number of observations sampled from the original dataset, could be the length of the entire dataset.\n",
    "ntest=50000 #number of observations in the test and dev samples\n",
    "word_ngrams=(1,1) #include separate words\n",
    "ngrams=(2,2) #Range of n-grams, (2,2) means include only bi-grams.\n",
    "feature_len=25 #Sequence length:\n",
    "mymodel='fl'\n",
    "\n",
    "word_vocab, char_vocab, X_train, X_dev, X_test, y_train, y_dev, y_test, _, _, _=data_preprocessing(df,sample,ntest,ngrams,feature_len,model=mymodel,random_state=21)\n",
    "\n",
    "num_classes=y_train.shape[1]\n",
    "num_words=len(word_vocab)+len(char_vocab)"
   ]
  },
  {
   "cell_type": "code",
   "execution_count": 103,
   "id": "da32d3e2",
   "metadata": {
    "scrolled": true
   },
   "outputs": [
    {
     "name": "stdout",
     "output_type": "stream",
     "text": [
      "Build model...\n",
      "Model: \"sequential_1\"\n",
      "_________________________________________________________________\n",
      "Layer (type)                 Output Shape              Param #   \n",
      "=================================================================\n",
      "embedding_1 (Embedding)      (None, 25, 32)            1892608   \n",
      "_________________________________________________________________\n",
      "lstm_1 (LSTM)                (None, 100)               53200     \n",
      "_________________________________________________________________\n",
      "dropout_1 (Dropout)          (None, 100)               0         \n",
      "_________________________________________________________________\n",
      "dense_1 (Dense)              (None, 4)                 404       \n",
      "=================================================================\n",
      "Total params: 1,946,212\n",
      "Trainable params: 1,946,212\n",
      "Non-trainable params: 0\n",
      "_________________________________________________________________\n",
      "None\n"
     ]
    },
    {
     "name": "stderr",
     "output_type": "stream",
     "text": [
      "/Users/nkotova/opt/anaconda3/envs/tensorflow_env/lib/python3.6/site-packages/tensorflow_core/python/framework/indexed_slices.py:424: UserWarning: Converting sparse IndexedSlices to a dense Tensor of unknown shape. This may consume a large amount of memory.\n",
      "  \"Converting sparse IndexedSlices to a dense Tensor of unknown shape. \"\n"
     ]
    },
    {
     "name": "stdout",
     "output_type": "stream",
     "text": [
      "Train on 1000000 samples, validate on 50000 samples\n",
      "Epoch 1/3\n",
      "1000000/1000000 [==============================] - 618s 618us/step - loss: 0.4134 - accuracy: 0.8754 - val_loss: 0.3765 - val_accuracy: 0.8848\n",
      "Epoch 2/3\n",
      "1000000/1000000 [==============================] - 611s 611us/step - loss: 0.3547 - accuracy: 0.8913 - val_loss: 0.3699 - val_accuracy: 0.8877\n",
      "Epoch 3/3\n",
      "1000000/1000000 [==============================] - 616s 616us/step - loss: 0.3383 - accuracy: 0.8948 - val_loss: 0.3701 - val_accuracy: 0.8881\n",
      "dict_keys(['val_loss', 'val_accuracy', 'loss', 'accuracy'])\n"
     ]
    },
    {
     "data": {
      "image/png": "[encoded data removed]",
      "text/plain": [
       "<Figure size 432x288 with 1 Axes>"
      ]
     },
     "metadata": {
      "needs_background": "light"
     },
     "output_type": "display_data"
    },
    {
     "data": {
      "image/png": "[encoded data removed]",
      "text/plain": [
       "<Figure size 432x288 with 1 Axes>"
      ]
     },
     "metadata": {
      "needs_background": "light"
     },
     "output_type": "display_data"
    },
    {
     "name": "stdout",
     "output_type": "stream",
     "text": [
      "Model's performance:\n",
      "              precision    recall  f1-score   support\n",
      "\n",
      "       asian       0.84      0.77      0.80      3637\n",
      "    hispanic       0.82      0.77      0.80      5207\n",
      "    nh_black       0.64      0.20      0.30      2714\n",
      "    nh_white       0.91      0.96      0.93     38442\n",
      "\n",
      "    accuracy                           0.89     50000\n",
      "   macro avg       0.80      0.68      0.71     50000\n",
      "weighted avg       0.88      0.89      0.88     50000\n",
      "\n",
      "[[ 2807   132    27   671]\n",
      " [   48  4006    31  1122]\n",
      " [   50    38   537  2089]\n",
      " [  453   687   246 37056]]\n",
      "Model's performance:\n",
      "              precision    recall  f1-score   support\n",
      "\n",
      "       asian       0.84      0.77      0.80      3769\n",
      "    hispanic       0.82      0.76      0.79      5066\n",
      "    nh_black       0.63      0.20      0.31      2656\n",
      "    nh_white       0.91      0.96      0.93     38509\n",
      "\n",
      "    accuracy                           0.89     50000\n",
      "   macro avg       0.80      0.67      0.71     50000\n",
      "weighted avg       0.88      0.89      0.88     50000\n",
      "\n",
      "[[ 2903   138    26   702]\n",
      " [   43  3860    30  1133]\n",
      " [   43    31   541  2041]\n",
      " [  469   691   260 37089]]\n"
     ]
    }
   ],
   "source": [
    "keras.backend.clear_session()\n",
    "\n",
    "feature_len=25 #Sequence length\n",
    "output_length=32 #Length of embedding\n",
    "batch_size=256\n",
    "epochs=3\n",
    "model_ouput_name=\"model_lstm_fl\"\n",
    "\n",
    "model_lstm = build_model_lstm(num_words,num_classes,feature_len,output_length)\n",
    "\n",
    "history=model_lstm.fit(X_train, y_train, batch_size=batch_size, epochs=epochs,\n",
    "          validation_data=(X_dev, y_dev),verbose=1,shuffle=True)\n",
    "\n",
    "#Plot accuracy and loss:\n",
    "plot_loss_accuracy(history)\n",
    "\n",
    "#Evaluate the model:\n",
    "model_evaluate(model_lstm,X_dev,y_dev)\n",
    "model_evaluate(model_lstm,X_test,y_test)\n",
    "\n",
    "model_lstm.save('/Users/nkotova/Documents/CS 230 Deep Learning/project/models/'+model_ouput_name+\".tf\")"
   ]
  },
  {
   "cell_type": "code",
   "execution_count": 104,
   "id": "529709d9",
   "metadata": {},
   "outputs": [
    {
     "name": "stdout",
     "output_type": "stream",
     "text": [
      "Performance on dev set:\n",
      "              precision    recall  f1-score   support\n",
      "\n",
      "       asian       0.84      0.77      0.80      3637\n",
      "    hispanic       0.82      0.77      0.80      5207\n",
      "    nh_black       0.64      0.20      0.30      2714\n",
      "    nh_white       0.91      0.96      0.93     38442\n",
      "\n",
      "    accuracy                           0.89     50000\n",
      "   macro avg       0.80      0.68      0.71     50000\n",
      "weighted avg       0.88      0.89      0.88     50000\n",
      "\n",
      "[[ 2807   132    27   671]\n",
      " [   48  4006    31  1122]\n",
      " [   50    38   537  2089]\n",
      " [  453   687   246 37056]]\n",
      "Performance on test set:\n",
      "              precision    recall  f1-score   support\n",
      "\n",
      "       asian       0.84      0.77      0.80      3769\n",
      "    hispanic       0.82      0.76      0.79      5066\n",
      "    nh_black       0.63      0.20      0.31      2656\n",
      "    nh_white       0.91      0.96      0.93     38509\n",
      "\n",
      "    accuracy                           0.89     50000\n",
      "   macro avg       0.80      0.67      0.71     50000\n",
      "weighted avg       0.88      0.89      0.88     50000\n",
      "\n",
      "[[ 2903   138    26   702]\n",
      " [   43  3860    30  1133]\n",
      " [   43    31   541  2041]\n",
      " [  469   691   260 37089]]\n"
     ]
    }
   ],
   "source": [
    "#predict_classes was depreciated in tf, so below is an alternative way to evaluate the model using model.predict:\n",
    "\n",
    "y_pred = model_lstm.predict(X_dev, verbose=2)\n",
    "y_pred=np.argmax(y_pred,axis=1)\n",
    "target_names = list(df.race.astype('category').cat.categories)\n",
    "print(\"Performance on dev set:\")\n",
    "print(classification_report(np.argmax(y_dev,axis=1), y_pred, target_names=target_names))\n",
    "print(confusion_matrix(np.argmax(y_dev, axis=1), y_pred))\n",
    "\n",
    "y_pred = model_lstm.predict(X_test, verbose=2)\n",
    "y_pred=np.argmax(y_pred,axis=1)\n",
    "target_names = list(df.race.astype('category').cat.categories)\n",
    "print(\"Performance on test set:\")\n",
    "print(classification_report(np.argmax(y_test,axis=1), y_pred, target_names=target_names))\n",
    "print(confusion_matrix(np.argmax(y_test, axis=1), y_pred))"
   ]
  },
  {
   "cell_type": "markdown",
   "id": "621a74d1",
   "metadata": {},
   "source": [
    "### First name, Last name, and Zip code string prediction"
   ]
  },
  {
   "cell_type": "code",
   "execution_count": 105,
   "id": "420185fa",
   "metadata": {},
   "outputs": [
    {
     "name": "stdout",
     "output_type": "stream",
     "text": [
      "          name_first\n",
      "race                \n",
      "asian          73278\n",
      "hispanic      101488\n",
      "nh_black       54226\n",
      "nh_white      771008\n",
      "Number of words: 72935\n",
      "Number of characters: 72935\n",
      "Max feature len = 43, Avg. feature len = 20\n",
      "1000000 train sequences\n",
      "50000 dev sequences\n",
      "50000 test sequences\n",
      "Pad sequences (samples x time)\n",
      "X_train shape: (1000000, 35)\n",
      "X_dev shape: (50000, 35)\n",
      "X_test shape: (50000, 35)\n",
      "4 classes\n",
      "Convert class vector to binary class matrix (for use with categorical_crossentropy)\n",
      "y_train shape: (1000000, 4)\n",
      "y_dev shape: (50000, 4)\n",
      "y_test shape: (50000, 4)\n",
      "Number of classes: 4\n"
     ]
    }
   ],
   "source": [
    "#Parameters:\n",
    "sample=1000000 #number of observations sampled from the original dataset, could be the length of the entire dataset.\n",
    "ntest=50000 #number of observations in the test and dev samples\n",
    "word_ngrams=(1,1) #include separate words\n",
    "ngrams=(2,2) #Range of n-grams, (2,2) means include only bi-grams.\n",
    "feature_len=35 #Sequence length\n",
    "mymodel='fl_zip'\n",
    "\n",
    "word_vocab, char_vocab, X_train, X_dev, X_test, y_train, y_dev, y_test, _, _, _=data_preprocessing(df,sample,ntest,ngrams,feature_len,model=mymodel,random_state=21)\n",
    "\n",
    "num_classes=y_train.shape[1]\n",
    "num_words=len(word_vocab)+len(char_vocab)"
   ]
  },
  {
   "cell_type": "code",
   "execution_count": 106,
   "id": "f37675dd",
   "metadata": {},
   "outputs": [
    {
     "name": "stdout",
     "output_type": "stream",
     "text": [
      "Build model...\n",
      "Model: \"sequential_1\"\n",
      "_________________________________________________________________\n",
      "Layer (type)                 Output Shape              Param #   \n",
      "=================================================================\n",
      "embedding_1 (Embedding)      (None, 35, 32)            2376416   \n",
      "_________________________________________________________________\n",
      "lstm_1 (LSTM)                (None, 100)               53200     \n",
      "_________________________________________________________________\n",
      "dropout_1 (Dropout)          (None, 100)               0         \n",
      "_________________________________________________________________\n",
      "dense_1 (Dense)              (None, 4)                 404       \n",
      "=================================================================\n",
      "Total params: 2,430,020\n",
      "Trainable params: 2,430,020\n",
      "Non-trainable params: 0\n",
      "_________________________________________________________________\n",
      "None\n"
     ]
    },
    {
     "name": "stderr",
     "output_type": "stream",
     "text": [
      "/Users/nkotova/opt/anaconda3/envs/tensorflow_env/lib/python3.6/site-packages/tensorflow_core/python/framework/indexed_slices.py:424: UserWarning: Converting sparse IndexedSlices to a dense Tensor of unknown shape. This may consume a large amount of memory.\n",
      "  \"Converting sparse IndexedSlices to a dense Tensor of unknown shape. \"\n"
     ]
    },
    {
     "name": "stdout",
     "output_type": "stream",
     "text": [
      "Train on 1000000 samples, validate on 50000 samples\n",
      "Epoch 1/3\n",
      "1000000/1000000 [==============================] - 854s 854us/step - loss: 0.3700 - accuracy: 0.8864 - val_loss: 0.3304 - val_accuracy: 0.8985\n",
      "Epoch 2/3\n",
      "1000000/1000000 [==============================] - 857s 857us/step - loss: 0.3004 - accuracy: 0.9063 - val_loss: 0.3243 - val_accuracy: 0.8988\n",
      "Epoch 3/3\n",
      "1000000/1000000 [==============================] - 856s 856us/step - loss: 0.2789 - accuracy: 0.9115 - val_loss: 0.3256 - val_accuracy: 0.8992\n",
      "dict_keys(['val_loss', 'val_accuracy', 'loss', 'accuracy'])\n"
     ]
    },
    {
     "data": {
      "image/png": "[encoded data removed]",
      "text/plain": [
       "<Figure size 432x288 with 1 Axes>"
      ]
     },
     "metadata": {
      "needs_background": "light"
     },
     "output_type": "display_data"
    },
    {
     "data": {
      "image/png": "[encoded data removed]",
      "text/plain": [
       "<Figure size 432x288 with 1 Axes>"
      ]
     },
     "metadata": {
      "needs_background": "light"
     },
     "output_type": "display_data"
    },
    {
     "name": "stdout",
     "output_type": "stream",
     "text": [
      "Model's performance:\n",
      "              precision    recall  f1-score   support\n",
      "\n",
      "       asian       0.83      0.78      0.81      3637\n",
      "    hispanic       0.83      0.78      0.80      5207\n",
      "    nh_black       0.69      0.45      0.54      2714\n",
      "    nh_white       0.92      0.96      0.94     38442\n",
      "\n",
      "    accuracy                           0.90     50000\n",
      "   macro avg       0.82      0.74      0.77     50000\n",
      "weighted avg       0.89      0.90      0.89     50000\n",
      "\n",
      "[[ 2834   120    38   645]\n",
      " [   47  4075    57  1028]\n",
      " [   50    48  1215  1401]\n",
      " [  465   684   456 36837]]\n",
      "Model's performance:\n",
      "              precision    recall  f1-score   support\n",
      "\n",
      "       asian       0.84      0.79      0.81      3769\n",
      "    hispanic       0.82      0.77      0.80      5066\n",
      "    nh_black       0.71      0.46      0.56      2656\n",
      "    nh_white       0.93      0.96      0.94     38509\n",
      "\n",
      "    accuracy                           0.90     50000\n",
      "   macro avg       0.82      0.75      0.78     50000\n",
      "weighted avg       0.90      0.90      0.90     50000\n",
      "\n",
      "[[ 2976   136    50   607]\n",
      " [   47  3916    50  1053]\n",
      " [   45    50  1223  1338]\n",
      " [  474   652   402 36981]]\n"
     ]
    }
   ],
   "source": [
    "keras.backend.clear_session()\n",
    "\n",
    "output_length=32 #Embedding\n",
    "batch_size=256\n",
    "epochs=3\n",
    "model_name=\"model_lstm_fl_zip\"\n",
    "\n",
    "model_lstm_fl_zip=build_model_lstm(num_words,num_classes,feature_len,output_length)\n",
    "\n",
    "history_lstm_fl_zip=model_lstm_fl_zip.fit(X_train, y_train, batch_size=batch_size, epochs=epochs,\n",
    "          validation_data=(X_dev, y_dev),verbose=1,shuffle=True)\n",
    "\n",
    "plot_loss_accuracy(history_lstm_fl_zip)\n",
    "\n",
    "model_evaluate(model_lstm_fl_zip,X_dev,y_dev)\n",
    "model_evaluate(model_lstm_fl_zip,X_test,y_test)\n",
    "\n",
    "model_lstm_fl_zip.save('/Users/nkotova/Documents/CS 230 Deep Learning/project/models/'+model_name+'.tf')"
   ]
  },
  {
   "cell_type": "code",
   "execution_count": 97,
   "id": "d0466604",
   "metadata": {},
   "outputs": [],
   "source": [
    "#predict_classes was depreciated in tf, so below is an alternative way to evaluate the model using model.predict:\n",
    "\n",
    "y_pred = model_lstm_fl_zip.predict(X_dev, verbose=2)\n",
    "y_pred=np.argmax(y_pred,axis=1)\n",
    "target_names = list(df.race.astype('category').cat.categories)\n",
    "print(\"Performance on dev set:\")\n",
    "print(classification_report(np.argmax(y_dev,axis=1), y_pred, target_names=target_names))\n",
    "print(confusion_matrix(np.argmax(y_dev, axis=1), y_pred))\n",
    "\n",
    "y_pred = model_lstm_fl_zip.predict(X_test, verbose=2)\n",
    "y_pred=np.argmax(y_pred,axis=1)\n",
    "target_names = list(df.race.astype('category').cat.categories)\n",
    "print(\"Performance on test set:\")\n",
    "print(classification_report(np.argmax(y_test,axis=1), y_pred, target_names=target_names))\n",
    "print(confusion_matrix(np.argmax(y_test, axis=1), y_pred))"
   ]
  },
  {
   "cell_type": "markdown",
   "id": "a2710e8d",
   "metadata": {},
   "source": [
    "### First name, last name, and zipcode racial composition "
   ]
  },
  {
   "cell_type": "code",
   "execution_count": 107,
   "id": "086ff2c8",
   "metadata": {},
   "outputs": [
    {
     "name": "stdout",
     "output_type": "stream",
     "text": [
      "          name_first\n",
      "race                \n",
      "asian          73278\n",
      "hispanic      101488\n",
      "nh_black       54226\n",
      "nh_white      771008\n",
      "Number of words: 57948\n",
      "Number of characters: 57948\n",
      "Max feature len = 37, Avg. feature len = 13\n",
      "1000000 train sequences\n",
      "50000 dev sequences\n",
      "50000 test sequences\n",
      "Pad sequences (samples x time)\n",
      "X_train shape: (1000000, 25)\n",
      "X_dev shape: (50000, 25)\n",
      "X_test shape: (50000, 25)\n",
      "4 classes\n",
      "Convert class vector to binary class matrix (for use with categorical_crossentropy)\n",
      "y_train shape: (1000000, 4)\n",
      "y_dev shape: (50000, 4)\n",
      "y_test shape: (50000, 4)\n",
      "Number of classes: 4\n"
     ]
    }
   ],
   "source": [
    "#Sampling data for LSTM model with additional data on zipcode composition:\n",
    "\n",
    "from keras.models import Model\n",
    "from keras.layers import Input\n",
    "from keras.layers import Concatenate, Dense, LSTM, Input, concatenate\n",
    "\n",
    "#Parameters:\n",
    "sample=1000000 #number of observations sampled from the original dataset, could be the length of the entire dataset.\n",
    "ntest=50000 #number of observations in the test and dev samples\n",
    "word_ngrams=(1,1) #include separate words\n",
    "ngrams=(2,2) #Range of n-grams, (2,2) means include only bi-grams.\n",
    "feature_len=25 #Sequence length\n",
    "num_length=3 #Number of numerical features\n",
    "mymodel='fl_zipcomp'\n",
    "\n",
    "\n",
    "word_vocab, char_vocab, X_train, X_dev, X_test, y_train, y_dev, y_test, N_test, N_dev, N_train=data_preprocessing(df,sample,ntest,ngrams,feature_len,model=mymodel,random_state=21)\n",
    "\n",
    "num_classes=y_train.shape[1]\n",
    "num_words=len(word_vocab)+len(char_vocab)"
   ]
  },
  {
   "cell_type": "code",
   "execution_count": 108,
   "id": "ea177e48",
   "metadata": {},
   "outputs": [
    {
     "name": "stdout",
     "output_type": "stream",
     "text": [
      "Model: \"model_1\"\n",
      "__________________________________________________________________________________________________\n",
      "Layer (type)                    Output Shape         Param #     Connected to                     \n",
      "==================================================================================================\n",
      "input_1 (InputLayer)            (None, 25)           0                                            \n",
      "__________________________________________________________________________________________________\n",
      "embedding_1 (Embedding)         (None, 25, 32)       1892608     input_1[0][0]                    \n",
      "__________________________________________________________________________________________________\n",
      "lstm_1 (LSTM)                   (None, 100)          53200       embedding_1[0][0]                \n",
      "__________________________________________________________________________________________________\n",
      "input_2 (InputLayer)            (None, 3)            0                                            \n",
      "__________________________________________________________________________________________________\n",
      "concatenate_1 (Concatenate)     (None, 103)          0           lstm_1[0][0]                     \n",
      "                                                                 input_2[0][0]                    \n",
      "__________________________________________________________________________________________________\n",
      "dense_1 (Dense)                 (None, 32)           3328        concatenate_1[0][0]              \n",
      "__________________________________________________________________________________________________\n",
      "dense_2 (Dense)                 (None, 4)            132         dense_1[0][0]                    \n",
      "==================================================================================================\n",
      "Total params: 1,949,268\n",
      "Trainable params: 1,949,268\n",
      "Non-trainable params: 0\n",
      "__________________________________________________________________________________________________\n",
      "None\n"
     ]
    },
    {
     "name": "stderr",
     "output_type": "stream",
     "text": [
      "/Users/nkotova/opt/anaconda3/envs/tensorflow_env/lib/python3.6/site-packages/tensorflow_core/python/framework/indexed_slices.py:424: UserWarning: Converting sparse IndexedSlices to a dense Tensor of unknown shape. This may consume a large amount of memory.\n",
      "  \"Converting sparse IndexedSlices to a dense Tensor of unknown shape. \"\n"
     ]
    },
    {
     "name": "stdout",
     "output_type": "stream",
     "text": [
      "Train on 1000000 samples, validate on 50000 samples\n",
      "Epoch 1/3\n",
      "1000000/1000000 [==============================] - 622s 622us/step - loss: 0.3881 - accuracy: 0.8786 - val_loss: 0.3356 - val_accuracy: 0.8953\n",
      "Epoch 2/3\n",
      "1000000/1000000 [==============================] - 623s 623us/step - loss: 0.3142 - accuracy: 0.9021 - val_loss: 0.3308 - val_accuracy: 0.8974\n",
      "Epoch 3/3\n",
      "1000000/1000000 [==============================] - 624s 624us/step - loss: 0.2965 - accuracy: 0.9068 - val_loss: 0.3275 - val_accuracy: 0.8980\n",
      "dict_keys(['val_loss', 'val_accuracy', 'loss', 'accuracy'])\n"
     ]
    },
    {
     "data": {
      "image/png": "[encoded data removed]",
      "text/plain": [
       "<Figure size 432x288 with 1 Axes>"
      ]
     },
     "metadata": {
      "needs_background": "light"
     },
     "output_type": "display_data"
    },
    {
     "data": {
      "image/png": "[encoded data removed]",
      "text/plain": [
       "<Figure size 432x288 with 1 Axes>"
      ]
     },
     "metadata": {
      "needs_background": "light"
     },
     "output_type": "display_data"
    }
   ],
   "source": [
    "keras.backend.clear_session()\n",
    "\n",
    "output_length=32 #Embedding\n",
    "batch_size=256\n",
    "epochs=3\n",
    "model_name=\"model_lstm_fl_zipcomp\"\n",
    "\n",
    "model_lstm_fl_zipcomp=build_model_lstm_zipcode_composition(num_words,num_classes,feature_len,output_length,num_length)\n",
    "\n",
    "history_lstm_fl_zipcomp=model_lstm_fl_zipcomp.fit([X_train, N_train], y_train, batch_size=batch_size, epochs=epochs,\n",
    "          validation_data=([X_dev, N_dev], y_dev),verbose=1)\n",
    "\n",
    "plot_loss_accuracy(history)"
   ]
  },
  {
   "cell_type": "code",
   "execution_count": 109,
   "id": "c8282a04",
   "metadata": {},
   "outputs": [
    {
     "name": "stdout",
     "output_type": "stream",
     "text": [
      "Performance on dev set\n",
      "              precision    recall  f1-score   support\n",
      "\n",
      "       asian       0.83      0.79      0.81      3637\n",
      "    hispanic       0.83      0.78      0.80      5207\n",
      "    nh_black       0.68      0.41      0.51      2714\n",
      "    nh_white       0.92      0.96      0.94     38442\n",
      "\n",
      "    accuracy                           0.90     50000\n",
      "   macro avg       0.81      0.74      0.77     50000\n",
      "weighted avg       0.89      0.90      0.89     50000\n",
      "\n",
      "[[ 2860   121    41   615]\n",
      " [   56  4072    54  1025]\n",
      " [   45    43  1124  1502]\n",
      " [  482   683   434 36843]]\n",
      "Performance on test set\n",
      "              precision    recall  f1-score   support\n",
      "\n",
      "       asian       0.84      0.80      0.82      3769\n",
      "    hispanic       0.82      0.77      0.80      5066\n",
      "    nh_black       0.71      0.43      0.54      2656\n",
      "    nh_white       0.92      0.96      0.94     38509\n",
      "\n",
      "    accuracy                           0.90     50000\n",
      "   macro avg       0.82      0.74      0.77     50000\n",
      "weighted avg       0.90      0.90      0.90     50000\n",
      "\n",
      "[[ 3012   126    43   588]\n",
      " [   52  3921    40  1053]\n",
      " [   35    43  1154  1424]\n",
      " [  473   689   388 36959]]\n"
     ]
    }
   ],
   "source": [
    "#Evaluating the model:\n",
    "\n",
    "y_pred = model_lstm_fl_zipcomp.predict([X_dev, N_dev], verbose=2)\n",
    "y_pred=np.argmax(y_pred,axis=1)\n",
    "target_names = list(df.race.astype('category').cat.categories)\n",
    "print(\"Performance on dev set\")\n",
    "print(classification_report(np.argmax(y_dev,axis=1), y_pred, target_names=target_names))\n",
    "print(confusion_matrix(np.argmax(y_dev, axis=1), y_pred))\n",
    "\n",
    "y_pred = model_lstm_fl_zipcomp.predict([X_test, N_test], verbose=2)\n",
    "y_pred=np.argmax(y_pred,axis=1)\n",
    "target_names = list(df.race.astype('category').cat.categories)\n",
    "print(\"Performance on test set\")\n",
    "print(classification_report(np.argmax(y_test,axis=1), y_pred, target_names=target_names))\n",
    "print(confusion_matrix(np.argmax(y_test, axis=1), y_pred))\n",
    "\n",
    "model_lstm_fl_zipcomp.save('/Users/nkotova/Documents/CS 230 Deep Learning/project/models/'+model_name+'.tf')"
   ]
  },
  {
   "cell_type": "code",
   "execution_count": null,
   "id": "60b87220",
   "metadata": {},
   "outputs": [],
   "source": []
  }
 ],
 "metadata": {
  "kernelspec": {
   "display_name": "Python 3",
   "language": "python",
   "name": "python3"
  },
  "language_info": {
   "codemirror_mode": {
    "name": "ipython",
    "version": 3
   },
   "file_extension": ".py",
   "mimetype": "text/x-python",
   "name": "python",
   "nbconvert_exporter": "python",
   "pygments_lexer": "ipython3",
   "version": "3.6.13"
  }
 },
 "nbformat": 4,
 "nbformat_minor": 5
}
